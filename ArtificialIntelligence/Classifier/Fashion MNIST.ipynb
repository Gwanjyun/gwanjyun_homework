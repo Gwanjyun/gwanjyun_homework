{
 "cells": [
  {
   "cell_type": "code",
   "execution_count": 1,
   "id": "5d9d04c6-4e01-477f-8201-7be7d1484f3a",
   "metadata": {},
   "outputs": [],
   "source": [
    "import torch\n",
    "import torch.nn as nn\n",
    "import torch.optim as optim\n",
    "\n",
    "import torchvision\n",
    "import torchvision.transforms as transforms\n",
    "\n",
    "import pytorch_lightning as pl"
   ]
  },
  {
   "cell_type": "code",
   "execution_count": null,
   "id": "9b280a23-7366-4cdf-aa4a-b629890fafca",
   "metadata": {},
   "outputs": [],
   "source": []
  },
  {
   "cell_type": "code",
   "execution_count": 2,
   "id": "a9d20d5d-21dc-4d1b-92ba-c00eca532206",
   "metadata": {},
   "outputs": [],
   "source": [
    "transform = transforms.Compose([\n",
    "    transforms.Resize((32,32)),\n",
    "    transforms.ToTensor()\n",
    "])\n",
    "dataset_train = torchvision.datasets.FashionMNIST('./data', train = True, download = True, transform = transform)\n",
    "dataset_test = torchvision.datasets.FashionMNIST('./data', train = False, download = True, transform = transform)\n",
    "dataloader_train = torch.utils.data.DataLoader(dataset_train, 256, shuffle = True, num_workers = 8)\n",
    "dataloader_test = torch.utils.data.DataLoader(dataset_test, 256, shuffle = False, num_workers = 8)"
   ]
  },
  {
   "cell_type": "code",
   "execution_count": 3,
   "id": "4c5228ae-ad32-49eb-992d-d34718b999d9",
   "metadata": {},
   "outputs": [],
   "source": [
    "class Mnist_classifier(nn.Module):\n",
    "    def __init__(self, num_class = 10):\n",
    "        super(Mnist_classifier, self).__init__()\n",
    "        self.FeatureExtractor = nn.Sequential(\n",
    "            nn.Conv2d(1, 32, 3, 1, 1),\n",
    "            nn.ReLU(True),\n",
    "            nn.Conv2d(32, 64, 3, 2, 1),\n",
    "            nn.ReLU(True),\n",
    "            nn.Conv2d(64, 128, 3, 2, 1),\n",
    "            nn.ReLU(True),\n",
    "            nn.Conv2d(128, 256, 3, 2, 1),\n",
    "            nn.ReLU(True),\n",
    "            nn.Conv2d(256, 512, 3, 2, 1),\n",
    "            nn.ReLU(True),\n",
    "        )\n",
    "        self.Classifier = nn.Sequential(\n",
    "            nn.AdaptiveMaxPool2d(1),\n",
    "            nn.Flatten(1),\n",
    "            nn.Linear(512, num_class)\n",
    "        )\n",
    "    \n",
    "    def forward(self, x):\n",
    "        feature = self.FeatureExtractor(x)\n",
    "        cls = self.Classifier(feature)\n",
    "        return cls"
   ]
  },
  {
   "cell_type": "code",
   "execution_count": 4,
   "id": "7138b9b8-13ea-4319-8569-a81f827c92c1",
   "metadata": {},
   "outputs": [],
   "source": [
    "class model_pl(pl.LightningModule):\n",
    "    def __init__(self, num_class = 10):\n",
    "        super(model_pl, self).__init__()\n",
    "        self.model = Mnist_classifier(num_class)\n",
    "    \n",
    "    def forward(self, x):\n",
    "        cls = self.model(x)\n",
    "        return cls\n",
    "    \n",
    "    def configure_optimizers(self, lr = 2e-3):\n",
    "        optimizer = torch.optim.Adam(self.parameters(), lr=lr)\n",
    "        return optimizer\n",
    "    \n",
    "    def training_step(self, train_batch, batch_idx):\n",
    "        x,y = train_batch\n",
    "        cls = self.model(x)\n",
    "        loss = nn.functional.cross_entropy(cls, y)\n",
    "        self.log('train_loss', loss)\n",
    "        return loss\n",
    "    \n",
    "    def validation_step(self, val_batch, batch_idx):\n",
    "        x,y = val_batch\n",
    "        cls = self.model(x)\n",
    "        loss = nn.functional.cross_entropy(cls, y)\n",
    "        self.log('val_loss', loss)"
   ]
  },
  {
   "cell_type": "code",
   "execution_count": 5,
   "id": "9566397a-a34a-4e82-85e0-8a0c95067ed2",
   "metadata": {},
   "outputs": [],
   "source": [
    "model = model_pl(num_class = 10)"
   ]
  },
  {
   "cell_type": "code",
   "execution_count": 6,
   "id": "a32bb49f-858d-4698-b99a-dcd680edf9bc",
   "metadata": {},
   "outputs": [
    {
     "name": "stderr",
     "output_type": "stream",
     "text": [
      "GPU available: True, used: True\n",
      "TPU available: False, using: 0 TPU cores\n",
      "IPU available: False, using: 0 IPUs\n",
      "LOCAL_RANK: 0 - CUDA_VISIBLE_DEVICES: [0,1,2]\n",
      "\n",
      "  | Name  | Type             | Params\n",
      "-------------------------------------------\n",
      "0 | model | Mnist_classifier | 1.6 M \n",
      "-------------------------------------------\n",
      "1.6 M     Trainable params\n",
      "0         Non-trainable params\n",
      "1.6 M     Total params\n",
      "6.293     Total estimated model params size (MB)\n"
     ]
    },
    {
     "name": "stdout",
     "output_type": "stream",
     "text": [
      "Epoch 0:  85%|███████▋ | 235/275 [00:02<00:00, 116.30it/s, loss=0.336, v_num=29]\n",
      "Validating: 0it [00:00, ?it/s]\u001b[A\n",
      "Validating:   0%|                                        | 0/40 [00:00<?, ?it/s]\u001b[A\n",
      "Epoch 0:  87%|████████▋ | 238/275 [00:02<00:00, 98.99it/s, loss=0.336, v_num=29]\u001b[A\n",
      "Epoch 0: 100%|█████████| 275/275 [00:02<00:00, 106.28it/s, loss=0.336, v_num=29]\u001b[A\n",
      "Epoch 1:  85%|███████▋ | 235/275 [00:02<00:00, 113.71it/s, loss=0.285, v_num=29]\u001b[A\n",
      "Validating: 0it [00:00, ?it/s]\u001b[A\n",
      "Validating:   0%|                                        | 0/40 [00:00<?, ?it/s]\u001b[A\n",
      "Epoch 1:  87%|████████▋ | 240/275 [00:02<00:00, 96.98it/s, loss=0.285, v_num=29]\u001b[A\n",
      "Epoch 1: 100%|█████████| 275/275 [00:02<00:00, 103.83it/s, loss=0.285, v_num=29]\u001b[A\n",
      "Epoch 1: 100%|█████████| 275/275 [00:02<00:00, 103.73it/s, loss=0.285, v_num=29]\u001b[A\n"
     ]
    }
   ],
   "source": [
    "trainer = pl.Trainer(gpus = [2], strategy=\"dp\", enable_checkpointing = False, max_epochs = 2)\n",
    "trainer.fit(model, train_dataloaders = dataloader_train, val_dataloaders=dataloader_test)"
   ]
  },
  {
   "cell_type": "code",
   "execution_count": 7,
   "id": "e1b10739-e2b0-49d1-b430-514c885deeb2",
   "metadata": {},
   "outputs": [],
   "source": [
    "model = model.to('cpu')"
   ]
  },
  {
   "cell_type": "code",
   "execution_count": 8,
   "id": "20e05222-fe33-44bd-91c3-8309ec09805d",
   "metadata": {},
   "outputs": [],
   "source": [
    "d = iter(dataloader_test)"
   ]
  },
  {
   "cell_type": "code",
   "execution_count": 9,
   "id": "75c39cd3-35af-4ef6-8270-1c4574829f5e",
   "metadata": {},
   "outputs": [
    {
     "data": {
      "text/plain": [
       "tensor(0.8906)"
      ]
     },
     "execution_count": 9,
     "metadata": {},
     "output_type": "execute_result"
    }
   ],
   "source": [
    "x,y = next(d)\n",
    "y_ = model(x)\n",
    "sum(y_.argmax(1) == y)/y.shape[0]"
   ]
  },
  {
   "cell_type": "code",
   "execution_count": null,
   "id": "abd2c68e-9e9d-4c01-b7a7-f148c111f732",
   "metadata": {},
   "outputs": [],
   "source": []
  },
  {
   "cell_type": "code",
   "execution_count": null,
   "id": "a6505c8b-ff3d-4316-89d3-0ab31d2d382d",
   "metadata": {},
   "outputs": [],
   "source": []
  },
  {
   "cell_type": "code",
   "execution_count": null,
   "id": "3bde858f-9d99-401d-ab2c-09d0563ad3cb",
   "metadata": {},
   "outputs": [],
   "source": []
  },
  {
   "cell_type": "code",
   "execution_count": null,
   "id": "ed0d3697-dc81-4baa-8596-02fcc656dd43",
   "metadata": {},
   "outputs": [],
   "source": []
  }
 ],
 "metadata": {
  "kernelspec": {
   "display_name": "Python 3 (ipykernel)",
   "language": "python",
   "name": "python3"
  },
  "language_info": {
   "codemirror_mode": {
    "name": "ipython",
    "version": 3
   },
   "file_extension": ".py",
   "mimetype": "text/x-python",
   "name": "python",
   "nbconvert_exporter": "python",
   "pygments_lexer": "ipython3",
   "version": "3.9.7"
  }
 },
 "nbformat": 4,
 "nbformat_minor": 5
}
